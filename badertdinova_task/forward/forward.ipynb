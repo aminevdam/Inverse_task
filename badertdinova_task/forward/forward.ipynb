{
 "cells": [
  {
   "cell_type": "markdown",
   "metadata": {},
   "source": [
    "### import libraries"
   ]
  },
  {
   "cell_type": "code",
   "execution_count": 1,
   "metadata": {},
   "outputs": [],
   "source": [
    "import torch\n",
    "import torch.nn as nn\n",
    "from torch.optim.lr_scheduler import ExponentialLR\n",
    "import numpy as np\n",
    "import pandas as pd\n",
    "import scipy\n",
    "import matplotlib.pyplot as plt\n",
    "import matplotlib.cm as cm\n",
    "import time\n",
    "from model import DNN\n",
    "from forward_config import *\n"
   ]
  },
  {
   "cell_type": "markdown",
   "metadata": {},
   "source": [
    "### finite diffs solution for reference."
   ]
  },
  {
   "cell_type": "code",
   "execution_count": 3,
   "metadata": {},
   "outputs": [
    {
     "name": "stderr",
     "output_type": "stream",
     "text": [
      "d:\\Inverse_task\\badertdinova_task\\forward\\reference.py:27: RuntimeWarning: overflow encountered in exp\n",
      "  return (mu_h-mu_o) / (1 + np.exp(B * (1/np.exp(ux)*grad - G))) + mu_o\n"
     ]
    }
   ],
   "source": [
    "from reference import finite_diffs\n",
    "\n",
    "P, uu, tt = finite_diffs(200, 50)\n",
    "\n",
    "P = P / Pk\n",
    "\n",
    "tt = tt/t_end"
   ]
  },
  {
   "cell_type": "markdown",
   "metadata": {},
   "source": [
    "### train model"
   ]
  },
  {
   "cell_type": "code",
   "execution_count": null,
   "metadata": {},
   "outputs": [],
   "source": [
    "device = torch.device(device)\n",
    "lr = 0.001\n",
    "epochs = 20000\n",
    "\n",
    "\n",
    "tol = 0.3\n",
    "n_t = 50\n",
    "\n",
    "u = torch.linspace(Rk/2/r0, Rk/r0, 70)\n",
    "u = torch.log(u)\n",
    "\n",
    "u1 = torch.linspace(np.log(rc/r0), np.log(Rk/2/r0), 50)\n",
    "u = torch.hstack((u, u1[:-1]))\n",
    "u = torch.sort(u)[0]\n",
    "\n",
    "t = torch.linspace(t0, 1, n_t)\n",
    "\n",
    "grid = torch.cartesian_prod(t, u).float().to(device)\n",
    "grid = grid[grid[:, 0].argsort()]\n",
    "\n",
    "# p(u,0)=1\n",
    "bnd1 = torch.cartesian_prod(torch.tensor([0.]), u).float().to(device)\n",
    "bndval1 = torch.tensor([1.]).to(device)\n",
    "\n",
    "#bnd2(u(-1), t)=1\n",
    "bnd2 = torch.cartesian_prod(t, torch.tensor([u[-1].item()])).float().to(device)\n",
    "bndval2 = torch.tensor([1.]).to(device)\n",
    "\n",
    "#bnd3\n",
    "bnd3 = torch.cartesian_prod(t, torch.tensor([u[0].item()])).float().to(device)\n",
    "\n",
    "tt = torch.from_numpy(tt).float()\n",
    "\n",
    "bnd_data = torch.cartesian_prod(tt, torch.tensor([u[0].item()])).float().to(device)\n",
    "\n",
    "bnd_value = torch.from_numpy(P[0,:]).float().to(device)\n",
    "\n",
    "NN = nn.Sequential(\n",
    "    nn.Linear(2, 200),\n",
    "    nn.Tanh(),\n",
    "    nn.Linear(200, 200),\n",
    "    nn.Tanh(),\n",
    "    nn.Linear(200, 200),\n",
    "    nn.Tanh(),\n",
    "    nn.Linear(200, 200),\n",
    "    nn.Tanh(),\n",
    "    nn.Linear(200, 200),\n",
    "    nn.Tanh(),\n",
    "    nn.Linear(200, 1)).to(device)\n",
    "\n",
    "\n",
    "# Initialize neural network\n",
    "model = DNN(NN, tol, n_t).to(device)\n",
    "\n",
    "# Loss and optimizer\n",
    "optimizer = torch.optim.Adam(model.parameters(), lr=lr)\n",
    "scheduler = ExponentialLR(optimizer, gamma=0.9)\n",
    "\n",
    "# Train PINNs\n",
    "for epoch in range(1, epochs+1):\n",
    "    model.train()\n",
    "\n",
    "    def closure():\n",
    "        global W\n",
    "        optimizer.zero_grad()\n",
    "        L_t, W = model.loss_weights(grid)\n",
    "        loss_bnd1 = model.loss_dirichlet(bnd1, bndval1).reshape(-1)\n",
    "        loss_bnd2 = model.loss_dirichlet(bnd2, bndval2).reshape(-1)\n",
    "        loss_bnd3 = model.loss_operator(bnd3).reshape(-1)\n",
    "        loss_data = model.loss_dirichlet(bnd_data, bnd_value).reshape(-1)\n",
    "        loss = torch.mean(W*L_t) + 1000*(torch.hstack([loss_bnd1, loss_bnd2, loss_bnd3, loss_data])).mean()\n",
    "        loss.backward()\n",
    "        return loss\n",
    "\n",
    "\n",
    "    # Optimize loss function\n",
    "    loss_pde = optimizer.step(closure)\n",
    "    if epoch % 5000 == 0:\n",
    "        scheduler.step()\n",
    "        print(scheduler.get_last_lr())\n",
    "    loss_value = loss_pde.item() if not isinstance(loss_pde, float) else loss_pde\n",
    "\n",
    "\n",
    "    if epoch%5000==0:\n",
    "        print(f'epoch {epoch}: loss {loss_value:.6f}')\n",
    "        fig1 = plt.figure()\n",
    "        ax1 = fig1.add_subplot(projection='3d')\n",
    "        ax1.plot_trisurf(grid[:, 1].cpu().detach().numpy().reshape(-1), grid[:, 0].cpu().detach().numpy().reshape(-1),\n",
    "                    model(grid).cpu().detach().numpy().reshape(-1), cmap=cm.jet, linewidth=0.2, alpha=1)\n",
    "        ax1.set_xlabel(\"x1\")\n",
    "        ax1.set_ylabel(\"x2\")\n",
    "        plt.show()\n",
    "        plt.plot(W.detach().cpu().numpy())\n",
    "        plt.show()\n",
    "\n"
   ]
  },
  {
   "cell_type": "markdown",
   "metadata": {},
   "source": [
    "### graphs for comparing"
   ]
  },
  {
   "cell_type": "code",
   "execution_count": null,
   "metadata": {},
   "outputs": [],
   "source": [
    "u = torch.linspace(np.log(rc/r0), np.log(Rk/r0), 50)\n",
    "r = torch.exp(u)\n",
    "t = torch.linspace(0, 1, 50)\n",
    "\n",
    "grid1 = torch.cartesian_prod(torch.tensor([t[1].item()]), u).float().to(device)\n",
    "grid2 = torch.cartesian_prod(torch.tensor([t[5].item()]), u).float().to(device)\n",
    "grid3 = torch.cartesian_prod(torch.tensor([t[49].item()]), u).float().to(device)\n",
    "gridt = torch.cartesian_prod(t, torch.tensor([u[0].item()])).float().to(device)\n",
    "\n",
    "import matplotlib\n",
    "plt.figure()\n",
    "plt.figure(figsize=(14, 8))\n",
    "font = {'serif' : 'Times New Roman',\n",
    "        'weight' : 'normal',\n",
    "        'size'   : 13}\n",
    "\n",
    "matplotlib.rc('font', **font)\n",
    "plt.subplot(1,2,1)\n",
    "plt.plot(r, model(grid1).cpu().detach().numpy(),'o', c='k', mfc='w', mec='k',ms=6, label = 'PINN model')\n",
    "plt.plot(np.exp(uu)/r0, P[:,1], '--', c='k', lw=2, label = 'Finite difference model')\n",
    "plt.plot(r, model(grid2).cpu().detach().numpy(),'o', c='k', mfc='w', mec='k',ms=6)\n",
    "plt.plot(np.exp(uu)/r0, P[:,5], '--', c='k', lw=2)\n",
    "plt.plot(r, model(grid3).cpu().detach().numpy(), 'o', c='k', mfc='w', mec='k',ms=6)\n",
    "plt.plot(np.exp(uu)/r0, P[:,49], '--', c='k', lw=2)\n",
    "plt.xlabel('x/L, m/m')\n",
    "plt.ylabel('$P/P_0$, MPa/MPa')\n",
    "plt.legend(loc='lower right')\n",
    "plt.grid(True)\n",
    "plt.subplot(1,2,2)\n",
    "plt.plot(t, model(gridt).cpu().detach().numpy(),'o', c='k', mfc='w', mec='k',ms=6, label = 'PINN model')\n",
    "plt.plot(tt, P[0,:], '--', c='k', lw=2, label = 'Finite difference model')\n",
    "plt.xlabel('t/T, sec/sec')\n",
    "plt.ylabel('$P/P_0$, MPa/MPa')\n",
    "plt.legend(loc='upper right')\n",
    "plt.grid(True)\n",
    "# plt.savefig('PINN_FD_badertdinova.eps',dpi = 1000)\n",
    "plt.show()\n"
   ]
  },
  {
   "cell_type": "markdown",
   "metadata": {},
   "source": [
    "### Relative RMSE confidence"
   ]
  },
  {
   "cell_type": "code",
   "execution_count": 23,
   "metadata": {},
   "outputs": [
    {
     "name": "stderr",
     "output_type": "stream",
     "text": [
      "d:\\Inverse_task\\badertdinova_task\\reference.py:27: RuntimeWarning: overflow encountered in exp\n",
      "  return (mu_h-mu_o) / (1 + np.exp(B * (1/np.exp(ux)*grad - G))) + mu_o\n"
     ]
    },
    {
     "name": "stdout",
     "output_type": "stream",
     "text": [
      "relative RMSE=  0.007567403077081331\n",
      "relative RMSE=  0.006983206609812921\n",
      "relative RMSE=  0.0069313660098099545\n",
      "relative RMSE=  0.007390950318304546\n",
      "relative RMSE=  0.007795243816333783\n"
     ]
    }
   ],
   "source": [
    "from data_interp import fd_solution\n",
    "from copy import copy\n",
    "\n",
    "rel_rmse = []\n",
    "\n",
    "for i in range(5):\n",
    "    device = torch.device(device)\n",
    "    lr = 0.001\n",
    "    epochs = 20000\n",
    "    tol = 0.3\n",
    "    n_t = 50\n",
    "\n",
    "    u = torch.linspace(Rk/2/r0, Rk/r0, 70)\n",
    "    u = torch.log(u)\n",
    "\n",
    "    u1 = torch.linspace(np.log(rc/r0), np.log(Rk/2/r0), 50)\n",
    "    u = torch.hstack((u, u1[:-1]))\n",
    "    u = torch.sort(u)[0]\n",
    "\n",
    "    t = torch.linspace(t0, 1, n_t)\n",
    "\n",
    "    grid = torch.cartesian_prod(t, u).float().to(device)\n",
    "    grid = grid[grid[:, 0].argsort()]\n",
    "\n",
    "    # p(u,0)=1\n",
    "    bnd1 = torch.cartesian_prod(torch.tensor([0.]), u).float().to(device)\n",
    "    bndval1 = torch.tensor([1.]).to(device)\n",
    "\n",
    "    #bnd2(u(-1), t)=1\n",
    "    bnd2 = torch.cartesian_prod(t, torch.tensor([u[-1].item()])).float().to(device)\n",
    "    bndval2 = torch.tensor([1.]).to(device)\n",
    "\n",
    "    #bnd3\n",
    "    bnd3 = torch.cartesian_prod(t, torch.tensor([u[0].item()])).float().to(device)\n",
    "\n",
    "    P, uu, tt = finite_diffs(200, 50)\n",
    "\n",
    "    P = P / Pk\n",
    "\n",
    "    tt = tt/t_end\n",
    "\n",
    "    tt = torch.from_numpy(tt).float()\n",
    "\n",
    "    bnd_data = torch.cartesian_prod(tt, torch.tensor([u[0].item()])).float().to(device)\n",
    "\n",
    "    bnd_value = torch.from_numpy(P[0,:]).float().to(device)\n",
    "\n",
    "    NN = nn.Sequential(\n",
    "        nn.Linear(2, 200),\n",
    "        nn.Tanh(),\n",
    "        nn.Linear(200, 200),\n",
    "        nn.Tanh(),\n",
    "        nn.Linear(200, 200),\n",
    "        nn.Tanh(),\n",
    "        nn.Linear(200, 200),\n",
    "        nn.Tanh(),\n",
    "        nn.Linear(200, 200),\n",
    "        nn.Tanh(),\n",
    "        nn.Linear(200, 1)).to(device)\n",
    "\n",
    "    model = DNN(NN, tol, n_t).to(device)\n",
    "\n",
    "    optimizer = torch.optim.Adam(model.parameters(), lr=lr)\n",
    "    scheduler = ExponentialLR(optimizer, gamma=0.9)\n",
    "\n",
    "    for epoch in range(1, epochs+1):\n",
    "        model.train()\n",
    "\n",
    "        def closure():\n",
    "            optimizer.zero_grad()\n",
    "            L_t, W = model.loss_weights(grid)\n",
    "            loss_bnd1 = model.loss_dirichlet(bnd1, bndval1).reshape(-1)\n",
    "            loss_bnd2 = model.loss_dirichlet(bnd2, bndval2).reshape(-1)\n",
    "            loss_bnd3 = model.loss_operator(bnd3).reshape(-1)\n",
    "            loss_data = model.loss_dirichlet(bnd_data, bnd_value).reshape(-1)\n",
    "            loss = torch.mean(W*L_t) + 1000*(torch.hstack([loss_bnd1, loss_bnd2, loss_bnd3, loss_data])).mean()\n",
    "            loss.backward()\n",
    "            return loss\n",
    "\n",
    "        # Optimize loss function\n",
    "        loss_pde = optimizer.step(closure)\n",
    "        if epoch % 5000 == 0:\n",
    "            scheduler.step()\n",
    "\n",
    "    pinn_sol = model(grid).detach().cpu().numpy().reshape(-1)\n",
    "\n",
    "    grid_fd = copy(grid.detach().cpu())\n",
    "\n",
    "    grid_fd[:,1] = torch.exp(grid_fd[:,1])\n",
    "\n",
    "    fd_sol = fd_solution(grid_fd).reshape(-1)\n",
    "\n",
    "    rmse = np.sqrt(np.sum((fd_sol - pinn_sol)**2)) / np.sqrt(np.sum(fd_sol**2))\n",
    "    print(\"relative RMSE= \", rmse)\n",
    "    rel_rmse.append(rmse)\n"
   ]
  },
  {
   "cell_type": "code",
   "execution_count": 26,
   "metadata": {},
   "outputs": [
    {
     "data": {
      "text/plain": [
       "(0.0068708597574298515, 0.007796408175107163)"
      ]
     },
     "execution_count": 26,
     "metadata": {},
     "output_type": "execute_result"
    }
   ],
   "source": [
    "import scipy.stats as st \n",
    " \n",
    "# create 95% confidence interval \n",
    "conf_inerval = st.t.interval(confidence=0.95, df=len(rel_rmse)-1, \n",
    "                            loc=np.mean(rel_rmse), \n",
    "                            scale=st.sem(rel_rmse))\n",
    "\n",
    "conf_inerval"
   ]
  }
 ],
 "metadata": {
  "kernelspec": {
   "display_name": "Python 3",
   "language": "python",
   "name": "python3"
  },
  "language_info": {
   "codemirror_mode": {
    "name": "ipython",
    "version": 3
   },
   "file_extension": ".py",
   "mimetype": "text/x-python",
   "name": "python",
   "nbconvert_exporter": "python",
   "pygments_lexer": "ipython3",
   "version": "3.9.10"
  },
  "orig_nbformat": 4
 },
 "nbformat": 4,
 "nbformat_minor": 2
}
